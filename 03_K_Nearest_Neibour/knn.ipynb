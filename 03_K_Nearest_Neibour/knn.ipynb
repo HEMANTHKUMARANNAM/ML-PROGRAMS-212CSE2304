{
 "cells": [
  {
   "cell_type": "code",
   "execution_count": null,
   "metadata": {},
   "outputs": [],
   "source": [
    "import pandas as pd\n",
    "import matplotlib.pyplot as plt\n",
    "import seaborn as sns\n",
    "from sklearn.model_selection import train_test_split\n",
    "from sklearn.neighbors import KNeighborsClassifier\n",
    "from sklearn.metrics import confusion_matrix, accuracy_score\n",
    "\n"
   ]
  },
  {
   "cell_type": "code",
   "execution_count": null,
   "metadata": {},
   "outputs": [],
   "source": [
    "\n",
    "\n",
    "data=pd.read_csv('3_Iris_knn.csv')\n",
    "X=data[['SepalLength', 'SepalWidth', 'PetalLength', 'PetalWidth']]\n",
    "Y=data[['Species']]\n",
    "\n"
   ]
  },
  {
   "cell_type": "code",
   "execution_count": null,
   "metadata": {},
   "outputs": [],
   "source": [
    "\n",
    "\n",
    "from sklearn.preprocessing import LabelEncoder\n",
    "y = LabelEncoder().fit_transform(Y)\n",
    "\n",
    "\n",
    "X_train,X_test,y_train,y_test=train_test_split(X,y,test_size=1/3)\n",
    "\n",
    "\n",
    "classifier = KNeighborsClassifier(n_neighbors=5, metric='manhattan').fit(X_train, y_train)\n",
    "\n",
    "\n",
    "\n",
    "\n",
    "\n",
    "\n",
    "y_pred = classifier.predict(X_test)\n",
    "\n",
    "cm = confusion_matrix(y_test, y_pred)\n",
    "cm_df = pd.DataFrame(cm)\n",
    "sns.heatmap(cm_df, annot=True)\n",
    "plt.title(f'Accuracy using brute: {accuracy_score(y_test, y_pred)}')\n",
    "plt.ylabel('Actual label')\n",
    "plt. xlabel('Predicted label')\n",
    "plt. show()\n",
    "\n",
    "from sklearn.metrics import classification_report\n",
    "print(classification_report(y_test,y_pred))\n",
    "\n"
   ]
  }
 ],
 "metadata": {
  "language_info": {
   "name": "python"
  }
 },
 "nbformat": 4,
 "nbformat_minor": 2
}
