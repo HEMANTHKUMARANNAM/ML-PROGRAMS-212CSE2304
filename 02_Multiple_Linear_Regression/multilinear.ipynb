{
 "cells": [
  {
   "cell_type": "markdown",
   "metadata": {},
   "source": [
    "# LIBRAREIES"
   ]
  },
  {
   "cell_type": "code",
   "execution_count": 1,
   "metadata": {},
   "outputs": [],
   "source": [
    "import pandas as pd\n",
    "import matplotlib.pyplot as plt\n",
    "from sklearn.linear_model import LinearRegression"
   ]
  },
  {
   "cell_type": "markdown",
   "metadata": {},
   "source": [
    "# LOAD DATA"
   ]
  },
  {
   "cell_type": "code",
   "execution_count": null,
   "metadata": {},
   "outputs": [],
   "source": [
    "\n",
    "\n",
    "data = pd.read_csv(\"1_Salary.csv\")\n",
    "\n",
    "x =data[[\"YearsExperience\"]]\n",
    "\n",
    "y =data[\"Salary\"]\n",
    "\n"
   ]
  },
  {
   "cell_type": "markdown",
   "metadata": {},
   "source": [
    "# Multi Linear Regression"
   ]
  },
  {
   "cell_type": "code",
   "execution_count": null,
   "metadata": {},
   "outputs": [],
   "source": [
    "\n",
    "linear_regression = LinearRegression()\n",
    "\n",
    "linear_regression.fit(x,y)\n",
    "\n",
    "plt.scatter(x,y , color = \"green\")\n",
    "\n",
    "plt.plot(x,linear_regression.predict(x) , color = \"red\")\n",
    "\n",
    "plt.scatter(x,linear_regression.predict(x) , color = \"black\")\n",
    "\n",
    "\n",
    "\n",
    "print(\"Coefficients: \\n\", linear_regression.coef_) \n",
    "print(\"Intercept: \\n\", linear_regression.intercept_) \n",
    "print(\"Variance:\\n\", linear_regression.score(x,y)) "
   ]
  }
 ],
 "metadata": {
  "kernelspec": {
   "display_name": "Python 3",
   "language": "python",
   "name": "python3"
  },
  "language_info": {
   "codemirror_mode": {
    "name": "ipython",
    "version": 3
   },
   "file_extension": ".py",
   "mimetype": "text/x-python",
   "name": "python",
   "nbconvert_exporter": "python",
   "pygments_lexer": "ipython3",
   "version": "3.12.2"
  }
 },
 "nbformat": 4,
 "nbformat_minor": 2
}
